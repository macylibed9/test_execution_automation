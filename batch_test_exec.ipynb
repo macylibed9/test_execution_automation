{
 "cells": [
  {
   "cell_type": "code",
   "execution_count": 4,
   "id": "ca7b0d76-bc89-4ce8-a9b4-05101341ab87",
   "metadata": {},
   "outputs": [],
   "source": [
    "# set required info\n",
    "\n",
    "# TEST_SET_KEY = 'GTSQA-325'\n",
    "tests = \"GTSQA-323, GTSQA-325, GTSQA-317\"\n",
    "test_set_keys = [key.strip().upper() for key in tests.replace(\",\", \" \").split()]\n",
    "\n",
    "# VERSIONS = [\"Kuiper2.0 Rel1\"]\n"
   ]
  },
  {
   "cell_type": "code",
   "execution_count": 5,
   "id": "26e57087-e27c-4bac-ad32-e633da6b40c2",
   "metadata": {},
   "outputs": [],
   "source": [
    "# Initialize script\n",
    "from atlassian import Jira, Xray\n",
    "\n",
    "JIRA_URL = \"https://jira.analog.com\"\n",
    "API_TOKEN = \"put your api key here\"\n",
    "PROJECT_KEY = \"GTSQA\"\n",
    "\n",
    "jira = Jira(\n",
    "    url=JIRA_URL,\n",
    "    token=API_TOKEN\n",
    ")\n",
    "\n",
    "xray = Xray(\n",
    "    url=JIRA_URL,\n",
    "    token=API_TOKEN\n",
    ")\n",
    "\n"
   ]
  },
  {
   "cell_type": "code",
   "execution_count": 6,
   "id": "c928c3d0-c0af-4df0-ba59-c79f640a6981",
   "metadata": {},
   "outputs": [
    {
     "name": "stdout",
     "output_type": "stream",
     "text": [
      "==================================================\n",
      "Test Sets: GTSQA-323\n",
      "Summary: rpi4b-cn0511 tests\n",
      "Components: [{'self': 'https://jira.analog.com/rest/api/2/component/68232', 'id': '68232', 'name': 'rpi4b'}]\n",
      "Tests: ['GTSQA-165', 'GTSQA-173', 'GTSQA-182', 'GTSQA-183', 'GTSQA-185', 'GTSQA-184', 'GTSQA-187', 'GTSQA-186', 'GTSQA-175', 'GTSQA-324']\n",
      "{'project': {'key': 'GTSQA'}, 'summary': 'Test rpi4b-cn0511', 'issuetype': {'name': 'Test Execution'}, 'description': 'Test Execution for GTSQA-323 rpi4b-cn0511 tests', 'assignee': {'name': 'KPaller'}, 'versions': [{'name': 'Kuiper2.0 Rel1'}], 'components': [{'name': 'rpi4b'}]}\n",
      "Created Test Execution: GTSQA-570\n",
      "Linked tests to GTSQA-570\n",
      "==================================================\n",
      "Test Sets: GTSQA-325\n",
      "Summary: rpi4b-cn0575 tests\n",
      "Components: [{'self': 'https://jira.analog.com/rest/api/2/component/68232', 'id': '68232', 'name': 'rpi4b'}]\n",
      "Tests: ['GTSQA-165', 'GTSQA-173', 'GTSQA-182', 'GTSQA-183', 'GTSQA-185', 'GTSQA-184', 'GTSQA-187', 'GTSQA-186', 'GTSQA-175', 'GTSQA-326']\n",
      "{'project': {'key': 'GTSQA'}, 'summary': 'Test rpi4b-cn0575', 'issuetype': {'name': 'Test Execution'}, 'description': 'Test Execution for GTSQA-325 rpi4b-cn0575 tests', 'assignee': {'name': 'KPaller'}, 'versions': [{'name': 'Kuiper2.0 Rel1'}], 'components': [{'name': 'rpi4b'}]}\n",
      "Created Test Execution: GTSQA-571\n",
      "Linked tests to GTSQA-571\n",
      "==================================================\n",
      "Test Sets: GTSQA-317\n",
      "Summary: rpi4b-cn0552 tests\n",
      "Components: [{'self': 'https://jira.analog.com/rest/api/2/component/68232', 'id': '68232', 'name': 'rpi4b'}]\n",
      "Tests: ['GTSQA-165', 'GTSQA-173', 'GTSQA-182', 'GTSQA-183', 'GTSQA-185', 'GTSQA-184', 'GTSQA-187', 'GTSQA-186', 'GTSQA-175', 'GTSQA-318']\n",
      "{'project': {'key': 'GTSQA'}, 'summary': 'Test rpi4b-cn0552', 'issuetype': {'name': 'Test Execution'}, 'description': 'Test Execution for GTSQA-317 rpi4b-cn0552 tests', 'assignee': {'name': 'KPaller'}, 'versions': [{'name': 'Kuiper2.0 Rel1'}], 'components': [{'name': 'rpi4b'}]}\n",
      "Created Test Execution: GTSQA-572\n",
      "Linked tests to GTSQA-572\n"
     ]
    }
   ],
   "source": [
    "for test_set_key in test_set_keys:\n",
    "    print(\"=\"*50)\n",
    "    print(f\"Test Sets: {test_set_key}\")\n",
    "\n",
    "    try:\n",
    "        # Get info\n",
    "        test_set_summary = jira.issue_field_value(test_set_key, \"summary\")\n",
    "        test_set_components = jira.issue_field_value(test_set_key, \"components\")\n",
    "        \n",
    "        test_set = xray.get_tests_with_test_set(test_set_key)\n",
    "        if len(test_set) == 0:\n",
    "            print(f\"No tests found in {test_set_key}, skipping.\\n\")\n",
    "            continue\n",
    "\n",
    "        print(f\"Summary: {test_set_summary}\")\n",
    "        print(f\"Components: {test_set_components}\")\n",
    "        print(f\"Tests: {[test['key'] for test in test_set]}\")\n",
    "\n",
    "        # Parse Summary\n",
    "        summary = test_set_summary.split(\" test\")[0] if \" test\" in test_set_summary else test_set_summary\n",
    "\n",
    "        # Find matching versions\n",
    "        version_found = []\n",
    "        for version in jira.get_project_versions(PROJECT_KEY):\n",
    "            if version[\"name\"] in VERSIONS:\n",
    "                version_found.append(version[\"name\"])\n",
    "\n",
    "        # Build Test Execution\n",
    "        issue_dict = {\n",
    "            \"project\": {\"key\": PROJECT_KEY},\n",
    "            \"summary\": f\"Test {summary}\",\n",
    "            \"issuetype\": {\"name\": \"Test Execution\"},\n",
    "            \"description\": f\"Test Execution for {test_set_key} {test_set_summary}\",\n",
    "            \"assignee\": {\"name\": jira.myself()[\"name\"]},\n",
    "            # \"reporter\": {\"name\": \"jiraUserName\"},\n",
    "            \"versions\": [{'name': version} for version in version_found],\n",
    "            \"components\": [{\"name\": comp[\"name\"]} for comp in test_set_components],\n",
    "            \"labels\": [\"Kuiper2.0-2024_r2-pre-RC0\"] \n",
    "        }\n",
    "\n",
    "        # Create and Link\n",
    "        print(issue_dict)\n",
    "        test_exec = jira.issue_create(issue_dict)\n",
    "        test_exec_key = test_exec[\"key\"]\n",
    "        print(f\"Created Test Execution: {test_exec_key}\")\n",
    "\n",
    "        xray.update_test_execution(test_exec_key, add=[test[\"key\"] for test in test_set])\n",
    "        print(f\"Linked tests to {test_exec_key}\")\n",
    "\n",
    "    except Exception as e:\n",
    "        print(f\"Error on {test_set_key}: {e}\")\n"
   ]
  }
 ],
 "metadata": {
  "kernelspec": {
   "display_name": "Python 3 (ipykernel)",
   "language": "python",
   "name": "python3"
  },
  "language_info": {
   "codemirror_mode": {
    "name": "ipython",
    "version": 3
   },
   "file_extension": ".py",
   "mimetype": "text/x-python",
   "name": "python",
   "nbconvert_exporter": "python",
   "pygments_lexer": "ipython3",
   "version": "3.10.12"
  }
 },
 "nbformat": 4,
 "nbformat_minor": 5
}
