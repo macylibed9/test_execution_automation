{
 "cells": [
  {
   "cell_type": "code",
   "execution_count": 39,
   "id": "ca7b0d76-bc89-4ce8-a9b4-05101341ab87",
   "metadata": {},
   "outputs": [],
   "source": [
    "# set required info\n",
    "\n",
    "TEST_SET_KEY = 'GTSQA-317'\n",
    "# VERSIONS = [\"Kuiper2.0 Rel1\"]\n"
   ]
  },
  {
   "cell_type": "code",
   "execution_count": 40,
   "id": "ae30dfb2-584d-48b8-b26d-4137fcd0d411",
   "metadata": {},
   "outputs": [],
   "source": [
    "# Initialize script\n",
    "from atlassian import Jira, Xray\n",
    "\n",
    "JIRA_URL = \"https://jira.analog.com\"\n",
    "API_TOKEN = \"put your api key here\"\n",
    "PROJECT_KEY = \"GTSQA\"\n",
    "\n",
    "jira = Jira(\n",
    "    url=JIRA_URL,\n",
    "    token=API_TOKEN\n",
    ")\n",
    "\n",
    "xray = Xray(\n",
    "    url=JIRA_URL,\n",
    "    token=API_TOKEN\n",
    ")\n",
    "\n"
   ]
  },
  {
   "cell_type": "code",
   "execution_count": 41,
   "id": "41fddb27-89fc-49f1-8793-8dcb983920fa",
   "metadata": {},
   "outputs": [
    {
     "name": "stdout",
     "output_type": "stream",
     "text": [
      "KEY: GTSQA-317\n",
      "Summary: rpi4b-cn0552 tests\n",
      "Components: [{'self': 'https://jira.analog.com/rest/api/2/component/68232', 'id': '68232', 'name': 'rpi4b'}]\n",
      "Tests: ['GTSQA-165', 'GTSQA-173', 'GTSQA-182', 'GTSQA-183', 'GTSQA-185', 'GTSQA-184', 'GTSQA-187', 'GTSQA-186', 'GTSQA-175', 'GTSQA-318']\n"
     ]
    }
   ],
   "source": [
    "# get test set information\n",
    "test_set_key = TEST_SET_KEY\n",
    "test_set_summary = jira.issue_field_value(test_set_key, \"summary\")\n",
    "test_set_components = jira.issue_field_value(test_set_key, \"components\")\n",
    "\n",
    "# get tests\n",
    "test_set = xray.get_tests_with_test_set(test_set_key)\n",
    "if len(test_set) == 0:\n",
    "    raise Exception(f\"{test_set} not found\")\n",
    "\n",
    "print(f\"KEY: {test_set_key}\")\n",
    "print(f\"Summary: {test_set_summary}\")\n",
    "print(f\"Components: {test_set_components}\")\n",
    "print(f\"Tests: {[test['key'] for test in test_set]}\")"
   ]
  },
  {
   "cell_type": "code",
   "execution_count": 42,
   "id": "226bf906-2465-43fa-aeaf-b9f75629f5c5",
   "metadata": {},
   "outputs": [
    {
     "name": "stdout",
     "output_type": "stream",
     "text": [
      "{'project': {'key': 'GTSQA'}, 'summary': 'Test rpi4b-cn0552', 'issuetype': {'name': 'Test Execution'}, 'description': 'Test Execution for GTSQA-317 rpi4b-cn0552 tests', 'assignee': {'name': 'kpaller'}, 'versions': [{'name': 'Kuiper2.0 Rel1'}], 'components': [{'name': 'rpi4b'}], 'labels': ['Kuiper2.0-6-6']}\n",
      "GTSQA-636\n",
      "[]\n",
      "[{'id': 458060, 'status': 'TODO', 'assignee': 'KPaller', 'defects': [], 'evidences': [], 'archived': False, 'key': 'GTSQA-165', 'rank': 1}, {'id': 458061, 'status': 'TODO', 'assignee': 'KPaller', 'defects': [], 'evidences': [], 'archived': False, 'key': 'GTSQA-173', 'rank': 2}, {'id': 458062, 'status': 'TODO', 'assignee': 'KPaller', 'defects': [], 'evidences': [], 'archived': False, 'key': 'GTSQA-182', 'rank': 3}, {'id': 458063, 'status': 'TODO', 'assignee': 'KPaller', 'defects': [], 'evidences': [], 'archived': False, 'key': 'GTSQA-183', 'rank': 4}, {'id': 458064, 'status': 'TODO', 'assignee': 'KPaller', 'defects': [], 'evidences': [], 'archived': False, 'key': 'GTSQA-185', 'rank': 5}, {'id': 458065, 'status': 'TODO', 'assignee': 'KPaller', 'defects': [], 'evidences': [], 'archived': False, 'key': 'GTSQA-184', 'rank': 6}, {'id': 458066, 'status': 'TODO', 'assignee': 'KPaller', 'defects': [], 'evidences': [], 'archived': False, 'key': 'GTSQA-187', 'rank': 7}, {'id': 458067, 'status': 'TODO', 'assignee': 'KPaller', 'defects': [], 'evidences': [], 'archived': False, 'key': 'GTSQA-186', 'rank': 8}, {'id': 458068, 'status': 'TODO', 'assignee': 'KPaller', 'defects': [], 'evidences': [], 'archived': False, 'key': 'GTSQA-175', 'rank': 9}, {'id': 458069, 'status': 'TODO', 'assignee': 'KPaller', 'defects': [], 'evidences': [], 'archived': False, 'key': 'GTSQA-318', 'rank': 10}]\n"
     ]
    }
   ],
   "source": [
    "# Create a new test execution from test_set summary\n",
    "summary = test_set_summary.split(\" test\")\n",
    "if len(summary) > 0:\n",
    "    summary = summary[0]\n",
    "\n",
    "version_found = []\n",
    "for version in jira.get_project_versions(PROJECT_KEY):\n",
    "    if version[\"name\"] in VERSIONS:\n",
    "        version_found.append(version[\"name\"])\n",
    "\n",
    "def create_test_execution():\n",
    "    issue_dict = {\n",
    "        \"project\": {\"key\": PROJECT_KEY},\n",
    "        \"summary\": f\"Test {summary}\",\n",
    "        \"issuetype\": {\"name\": \"Test Execution\"},\n",
    "        \"description\": f\"Test Execution for {test_set_key} {test_set_summary}\",\n",
    "        \"assignee\": {\"name\": jira.myself()[\"key\"]},\n",
    "        # \"reporter\": {\"name\": \"jiraUserName\"},\n",
    "        \"versions\": [{'name': version} for version in version_found],\n",
    "        \"components\": [{\"name\": component['name']} for component in test_set_components],\n",
    "        \"labels\": [\"Kuiper2.0-2024_r2-pre-RC0\"] \n",
    "    }\n",
    "\n",
    "    print(issue_dict)\n",
    "\n",
    "    # Create the issue\n",
    "    test_exec = jira.issue_create(issue_dict)\n",
    "    return test_exec[\"key\"]\n",
    "\n",
    "test_exec_key = create_test_execution()\n",
    "print(test_exec_key)\n",
    "\n",
    "# Link Test Cases to the Test Execution\n",
    "# test_exec_key = \"GTSQA-497\"\n",
    "print(xray.get_tests_with_test_execution(test_exec_key, detailed=True))\n",
    "\n",
    "# Associate tests with the given test execution\n",
    "xray.update_test_execution(test_exec_key, add=[test[\"key\"] for test in test_set])\n",
    "\n",
    "# Verify if tests were added\n",
    "print(xray.get_tests_with_test_execution(test_exec_key, detailed=True))"
   ]
  },
  {
   "cell_type": "code",
   "execution_count": null,
   "id": "de8352af-e0f9-4610-bd35-ffa52cda806c",
   "metadata": {},
   "outputs": [],
   "source": []
  }
 ],
 "metadata": {
  "kernelspec": {
   "display_name": "Python 3 (ipykernel)",
   "language": "python",
   "name": "python3"
  },
  "language_info": {
   "codemirror_mode": {
    "name": "ipython",
    "version": 3
   },
   "file_extension": ".py",
   "mimetype": "text/x-python",
   "name": "python",
   "nbconvert_exporter": "python",
   "pygments_lexer": "ipython3",
   "version": "3.10.12"
  }
 },
 "nbformat": 4,
 "nbformat_minor": 5
}
