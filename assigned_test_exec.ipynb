{
 "cells": [
  {
   "cell_type": "code",
   "execution_count": 97,
   "id": "ca7b0d76-bc89-4ce8-a9b4-05101341ab87",
   "metadata": {},
   "outputs": [],
   "source": [
    "# set required info\n",
    "\n",
    "# VERSIONS = [\"Kuiper2.0 Rel1\"]\n"
   ]
  },
  {
   "cell_type": "code",
   "execution_count": 98,
   "id": "26e57087-e27c-4bac-ad32-e633da6b40c2",
   "metadata": {},
   "outputs": [],
   "source": [
    "# Initialize script\n",
    "from atlassian import Jira, Xray\n",
    "\n",
    "JIRA_URL = \"https://jira.analog.com\"\n",
    "API_TOKEN = \"put your api key here\"\n",
    "PROJECT_KEY = \"GTSQA\"\n",
    "\n",
    "jira = Jira(\n",
    "    url=JIRA_URL,\n",
    "    token=API_TOKEN\n",
    ")\n",
    "\n",
    "xray = Xray(\n",
    "    url=JIRA_URL,\n",
    "    token=API_TOKEN\n",
    ")"
   ]
  },
  {
   "cell_type": "code",
   "execution_count": 96,
   "id": "aa6207ff-5812-4351-a247-441e7bda941d",
   "metadata": {},
   "outputs": [
    {
     "name": "stdout",
     "output_type": "stream",
     "text": [
      "\n",
      " Found 18 Test Set(s) assigned to you:\n",
      "\n",
      "1.GTSQA-275 - zc706-ad9434 tests\n",
      "2.GTSQA-190 - zc706-fmcomms2-3 tests\n",
      "3.GTSQA-510 - nope tests\n",
      "4.GTSQA-276 - zed-ad9434 tests\n",
      "5.GTSQA-268 - zc706-adv7511 tests\n",
      "6.GTSQA-197 - zc706-fmcomms4 tests\n",
      "7.GTSQA-301 - zc706-cn0506-mii tests\n",
      "8.GTSQA-303 - zc706-cn0506-rmii tests\n",
      "9.GTSQA-302 - zc706-cn0506-rgmii tests\n",
      "10.GTSQA-270 - zed-adv7511 tests\n",
      "11.GTSQA-285 - zed-ad4003 tests\n",
      "12.GTSQA-191 - zed-fmcomms2-3 tests\n",
      "13.GTSQA-196 - zed-fmcomms4 tests\n",
      "14.GTSQA-278 - zed-ad9265 tests\n",
      "15.GTSQA-279 - zed-ad9467 tests\n",
      "16.GTSQA-272 - zcu102-ad9172 tests\n",
      "17.GTSQA-194 - zcu102-fmcomms2-3 tests\n",
      "18.GTSQA-199 - zcu102-fmcomms4 tests\n"
     ]
    }
   ],
   "source": [
    "# Get all tests sets that belongs to you\n",
    "jql_query = 'project = GTSQA AND issuetype = \"Test Set\" AND resolution = Unresolved AND assignee in (currentUser()) ORDER BY priority DESC, updated DESC'\n",
    "my_test_sets = jira.jql(jql_query)[\"issues\"]\n",
    "\n",
    "print(f\"\\n Found {len(my_test_sets)} Test Set(s) assigned to you:\\n\")\n",
    "\n",
    "for i, test_set in enumerate(my_test_sets, start=1):\n",
    "    test_set_key = test_set[\"key\"]\n",
    "    test_set_summary = test_set[\"fields\"][\"summary\"]\n",
    "    print(f\"{i}.{test_set_key} - {test_set_summary}\")"
   ]
  },
  {
   "cell_type": "code",
   "execution_count": 100,
   "id": "41fddb27-89fc-49f1-8793-8dcb983920fa",
   "metadata": {},
   "outputs": [
    {
     "name": "stdout",
     "output_type": "stream",
     "text": [
      "KEY: GTSQA-275\n",
      "Summary: zc706-ad9434 tests\n",
      "Components: [{'self': 'https://jira.analog.com/rest/api/2/component/68124', 'id': '68124', 'name': 'zc706'}]\n",
      "Tests: ['GTSQA-165', 'GTSQA-173', 'GTSQA-178', 'GTSQA-182', 'GTSQA-183', 'GTSQA-185', 'GTSQA-184', 'GTSQA-187', 'GTSQA-186', 'GTSQA-175', 'GTSQA-166', 'GTSQA-174', 'GTSQA-217', 'GTSQA-179', 'GTSQA-274', 'GTSQA-422', 'GTSQA-423']\n",
      "Test Execution: GTSQA-573 for GTSQA-275\n",
      "Linked tests to GTSQA-573\n",
      "[{'id': 449153, 'status': 'TODO', 'assignee': 'MLibed', 'defects': [], 'evidences': [], 'archived': False, 'key': 'GTSQA-165', 'rank': 1}, {'id': 449154, 'status': 'TODO', 'assignee': 'MLibed', 'defects': [], 'evidences': [], 'archived': False, 'key': 'GTSQA-173', 'rank': 2}, {'id': 449155, 'status': 'TODO', 'assignee': 'MLibed', 'defects': [], 'evidences': [], 'archived': False, 'key': 'GTSQA-178', 'rank': 3}, {'id': 449156, 'status': 'TODO', 'assignee': 'MLibed', 'defects': [], 'evidences': [], 'archived': False, 'key': 'GTSQA-182', 'rank': 4}, {'id': 449157, 'status': 'TODO', 'assignee': 'MLibed', 'defects': [], 'evidences': [], 'archived': False, 'key': 'GTSQA-183', 'rank': 5}, {'id': 449158, 'status': 'TODO', 'assignee': 'MLibed', 'defects': [], 'evidences': [], 'archived': False, 'key': 'GTSQA-185', 'rank': 6}, {'id': 449159, 'status': 'TODO', 'assignee': 'MLibed', 'defects': [], 'evidences': [], 'archived': False, 'key': 'GTSQA-184', 'rank': 7}, {'id': 449160, 'status': 'TODO', 'assignee': 'MLibed', 'defects': [], 'evidences': [], 'archived': False, 'key': 'GTSQA-187', 'rank': 8}, {'id': 449161, 'status': 'TODO', 'assignee': 'MLibed', 'defects': [], 'evidences': [], 'archived': False, 'key': 'GTSQA-186', 'rank': 9}, {'id': 449162, 'status': 'TODO', 'assignee': 'MLibed', 'defects': [], 'evidences': [], 'archived': False, 'key': 'GTSQA-175', 'rank': 10}, {'id': 449163, 'status': 'TODO', 'assignee': 'MLibed', 'defects': [], 'evidences': [], 'archived': False, 'key': 'GTSQA-166', 'rank': 11}, {'id': 449164, 'status': 'TODO', 'assignee': 'MLibed', 'defects': [], 'evidences': [], 'archived': False, 'key': 'GTSQA-174', 'rank': 12}, {'id': 449165, 'status': 'TODO', 'assignee': 'MLibed', 'defects': [], 'evidences': [], 'archived': False, 'key': 'GTSQA-217', 'rank': 13}, {'id': 449166, 'status': 'TODO', 'assignee': 'MLibed', 'defects': [], 'evidences': [], 'archived': False, 'key': 'GTSQA-179', 'rank': 14}, {'id': 449167, 'status': 'TODO', 'assignee': 'MLibed', 'defects': [], 'evidences': [], 'archived': False, 'key': 'GTSQA-274', 'rank': 15}, {'id': 449168, 'status': 'TODO', 'assignee': 'MLibed', 'defects': [], 'evidences': [], 'archived': False, 'key': 'GTSQA-422', 'rank': 16}, {'id': 449169, 'status': 'TODO', 'assignee': 'MLibed', 'defects': [], 'evidences': [], 'archived': False, 'key': 'GTSQA-423', 'rank': 17}]\n",
      "\n",
      "KEY: GTSQA-190\n",
      "Summary: zc706-fmcomms2-3 tests\n",
      "Components: [{'self': 'https://jira.analog.com/rest/api/2/component/68124', 'id': '68124', 'name': 'zc706'}]\n",
      "Tests: ['GTSQA-165', 'GTSQA-186', 'GTSQA-173', 'GTSQA-178', 'GTSQA-182', 'GTSQA-183', 'GTSQA-185', 'GTSQA-184', 'GTSQA-187', 'GTSQA-175', 'GTSQA-166', 'GTSQA-174', 'GTSQA-189']\n",
      "Test Execution: GTSQA-574 for GTSQA-190\n",
      "Linked tests to GTSQA-574\n",
      "[{'id': 449170, 'status': 'TODO', 'assignee': 'MLibed', 'defects': [], 'evidences': [], 'archived': False, 'key': 'GTSQA-165', 'rank': 1}, {'id': 449171, 'status': 'TODO', 'assignee': 'MLibed', 'defects': [], 'evidences': [], 'archived': False, 'key': 'GTSQA-186', 'rank': 2}, {'id': 449172, 'status': 'TODO', 'assignee': 'MLibed', 'defects': [], 'evidences': [], 'archived': False, 'key': 'GTSQA-173', 'rank': 3}, {'id': 449173, 'status': 'TODO', 'assignee': 'MLibed', 'defects': [], 'evidences': [], 'archived': False, 'key': 'GTSQA-178', 'rank': 4}, {'id': 449174, 'status': 'TODO', 'assignee': 'MLibed', 'defects': [], 'evidences': [], 'archived': False, 'key': 'GTSQA-182', 'rank': 5}, {'id': 449175, 'status': 'TODO', 'assignee': 'MLibed', 'defects': [], 'evidences': [], 'archived': False, 'key': 'GTSQA-183', 'rank': 6}, {'id': 449176, 'status': 'TODO', 'assignee': 'MLibed', 'defects': [], 'evidences': [], 'archived': False, 'key': 'GTSQA-185', 'rank': 7}, {'id': 449177, 'status': 'TODO', 'assignee': 'MLibed', 'defects': [], 'evidences': [], 'archived': False, 'key': 'GTSQA-184', 'rank': 8}, {'id': 449178, 'status': 'TODO', 'assignee': 'MLibed', 'defects': [], 'evidences': [], 'archived': False, 'key': 'GTSQA-187', 'rank': 9}, {'id': 449179, 'status': 'TODO', 'assignee': 'MLibed', 'defects': [], 'evidences': [], 'archived': False, 'key': 'GTSQA-175', 'rank': 10}, {'id': 449180, 'status': 'TODO', 'assignee': 'MLibed', 'defects': [], 'evidences': [], 'archived': False, 'key': 'GTSQA-166', 'rank': 11}, {'id': 449181, 'status': 'TODO', 'assignee': 'MLibed', 'defects': [], 'evidences': [], 'archived': False, 'key': 'GTSQA-174', 'rank': 12}, {'id': 449182, 'status': 'TODO', 'assignee': 'MLibed', 'defects': [], 'evidences': [], 'archived': False, 'key': 'GTSQA-189', 'rank': 13}]\n",
      "\n"
     ]
    }
   ],
   "source": [
    "for test_set_issue in my_test_sets[:2]:\n",
    "    test_set_key = test_set_issue[\"key\"]\n",
    "    test_set_summary = jira.issue_field_value(test_set_key, \"summary\")\n",
    "    test_set_components = jira.issue_field_value(test_set_key, \"components\")\n",
    "\n",
    "    # Get tests\n",
    "    test_set = xray.get_tests_with_test_set(test_set_key)\n",
    "    if len(test_set) == 0:\n",
    "        print(f\"No tests found for test set {test_set_key}\")\n",
    "        continue\n",
    "\n",
    "    print(f\"KEY: {test_set_key}\")\n",
    "    print(f\"Summary: {test_set_summary}\")\n",
    "    print(f\"Components: {test_set_components}\")\n",
    "    print(f\"Tests: {[test['key'] for test in test_set]}\")\n",
    "\n",
    "    # Create a new test execution from test_set summary\n",
    "    summary = test_set_summary.split(\" test\")[0]\n",
    "\n",
    "    # version_found = []\n",
    "    # for version in jira.get_project_versions(PROJECT_KEY):\n",
    "    #     if version[\"name\"] in VERSIONS:\n",
    "    #         version_found.append(version[\"name\"])\n",
    "\n",
    "    issue_dict = {\n",
    "        \"project\": {\"key\": PROJECT_KEY},\n",
    "        \"summary\": f\"Test {summary}\",\n",
    "        \"issuetype\": {\"name\": \"Test Execution\"},\n",
    "        \"description\": f\"Test Execution for {test_set_key} {test_set_summary}\",\n",
    "        \"assignee\": {\"name\": jira.myself()[\"name\"]},\n",
    "        # \"reporter\": {\"name\": \"jiraUserName\"},\n",
    "        # \"versions\": [{'name': version} for version in version_found],\n",
    "        \"components\": [{\"name\": component['name']} for component in test_set_components],\n",
    "        \"labels\": [\"Kuiper2.0-2024_r2-pre-RC0\"] \n",
    "    }\n",
    "\n",
    "    try:\n",
    "        test_exec = jira.issue_create(issue_dict)\n",
    "        test_exec_key = test_exec[\"key\"]\n",
    "        print(f\"Test Execution: {test_exec_key} for {test_set_key}\")\n",
    "\n",
    "      # Link test cases to Test Execution\n",
    "        xray.update_test_execution(test_exec_key, add=[test[\"key\"] for test in test_set])\n",
    "        print(f\"Linked tests to {test_exec_key}\")\n",
    "        print(xray.get_tests_with_test_execution(test_exec_key, detailed=True))\n",
    "        print(f\"\")\n",
    "        \n",
    "    except Exception as e:\n",
    "        print(f\" Failed to create Test Execution for {test_set_key}: {e}\")\n"
   ]
  }
 ],
 "metadata": {
  "kernelspec": {
   "display_name": "Python 3 (ipykernel)",
   "language": "python",
   "name": "python3"
  },
  "language_info": {
   "codemirror_mode": {
    "name": "ipython",
    "version": 3
   },
   "file_extension": ".py",
   "mimetype": "text/x-python",
   "name": "python",
   "nbconvert_exporter": "python",
   "pygments_lexer": "ipython3",
   "version": "3.10.12"
  }
 },
 "nbformat": 4,
 "nbformat_minor": 5
}
